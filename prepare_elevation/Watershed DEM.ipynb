{
 "cells": [
  {
   "cell_type": "markdown",
   "id": "bed5412d-d07e-42a2-a0f5-6df760e4307f",
   "metadata": {},
   "source": [
    "# Watershed DEM Preparation"
   ]
  },
  {
   "cell_type": "markdown",
   "id": "390ad441-d814-484e-9e4e-23401ddaa38d",
   "metadata": {},
   "source": [
    "This notebook helps to create input watershed DEM files. The watershed DEM file can be used as the input DEM file for running the simulation."
   ]
  },
  {
   "cell_type": "code",
   "execution_count": null,
   "id": "d39562d5-9e3a-483e-8317-4f5a5f5a977f",
   "metadata": {},
   "outputs": [],
   "source": [
    "import os\n",
    "\n",
    "import numpy as np\n",
    "import matplotlib.pyplot as plt\n",
    "import rasterio\n",
    "\n",
    "from bmi_topography import Topography\n",
    "from landlab import RasterModelGrid\n",
    "from landlab.components import FlowAccumulator, ChannelProfiler\n",
    "from landlab.utils import get_watershed_mask\n",
    "from landlab import imshow_grid\n",
    "from landlab.io import write_esri_ascii"
   ]
  },
  {
   "cell_type": "markdown",
   "id": "aceb9da7-5a73-423c-b436-1bef8836c886",
   "metadata": {},
   "source": [
    "## Step1: Download DEM data"
   ]
  },
  {
   "cell_type": "markdown",
   "id": "90ffb9e1-4f72-4991-83fb-db8ec5740da6",
   "metadata": {},
   "source": [
    "We will use the [Topography Data Component](https://bmi-topography.csdms.io/en/latest/) to download the DEM dataset (10m resolution) for the study area."
   ]
  },
  {
   "cell_type": "code",
   "execution_count": null,
   "id": "8c046bb8-64cf-43da-b0ac-2d7de6ce43cb",
   "metadata": {},
   "outputs": [],
   "source": [
    "# define parameters\n",
    "params = {\n",
    " 'dem_type': 'USGS10m',\n",
    " 'south': 40.11592,\n",
    " 'north': 40.14016,\n",
    " 'east': -105.30610,\n",
    " 'west': -105.35413,\n",
    " 'output_format': 'GTiff',\n",
    " 'cache_dir': 'spruce'\n",
    "}\n",
    "\n",
    "# download data\n",
    "study_area = Topography(**params)\n",
    "study_area.fetch()\n",
    "dataset = study_area.load()"
   ]
  },
  {
   "cell_type": "markdown",
   "id": "07972aef-3ac2-4e98-a663-1837a66db3ac",
   "metadata": {},
   "source": [
    "## Step2: Watershed Delineation"
   ]
  },
  {
   "cell_type": "markdown",
   "id": "9a7f0180-8bcb-405b-8fdf-54dbf8c33958",
   "metadata": {},
   "source": [
    "We will use the [Landlab](https://landlab.csdms.io/) model components and utitlities to do the watershed delineation for the DEM data."
   ]
  },
  {
   "cell_type": "code",
   "execution_count": null,
   "id": "ac3f752a-ff7f-4e60-bac5-7f6e04d86333",
   "metadata": {},
   "outputs": [],
   "source": [
    "# set parameters\n",
    "cell_size = 10  # DEM data resolution in meter\n",
    "no_data = -9999  # no data value for the grid cells outside of the watershed\n",
    "\n",
    "# define Raster Model Grid\n",
    "elevation = np.flip(dataset.values[0], axis=0)\n",
    "model_grid = RasterModelGrid(elevation.shape, xy_spacing=cell_size)\n",
    "dem_field = model_grid.add_field(\"topographic__elevation\", elevation.astype(\"float\"))\n",
    "model_grid.status_at_node[dem_field < 0] = (model_grid.BC_NODE_IS_CLOSED)  # disable water area\n",
    "\n",
    "# plot DEM data\n",
    "plt.figure(figsize=(9,4))\n",
    "model_grid.imshow(\"topographic__elevation\", \n",
    "                  plot_name=\"DEM Data from OpenTopography\",\n",
    "                  var_name=\"elevation(m)\",\n",
    "                  cmap=\"viridis\")\n"
   ]
  },
  {
   "cell_type": "code",
   "execution_count": null,
   "id": "48a9bbc6-4d59-48f1-8194-964d70593c9b",
   "metadata": {},
   "outputs": [],
   "source": [
    "# flow accumulation\n",
    "fa = FlowAccumulator(\n",
    " model_grid,\n",
    " method=\"Steepest\",\n",
    " flow_director=\"FlowDirectorSteepest\",\n",
    " depression_finder=\"LakeMapperBarnes\",\n",
    " redirect_flow_steepest_descent=True,\n",
    " reaccumulate_flow=True,\n",
    ")\n",
    "fa.run_one_step()\n",
    "\n",
    "# set up channel profiler\n",
    "profiler = ChannelProfiler(model_grid, number_of_watersheds=1)\n",
    "profiler.run_one_step()\n",
    "\n",
    "# get watershed mask\n",
    "outlet = profiler.nodes[0][0]\n",
    "watershed_mask = get_watershed_mask(model_grid, outlet)\n",
    "\n",
    "# assign nodata to cells outside the watershed\n",
    "model_grid.at_node[\"topographic__elevation\"][~watershed_mask] = no_data\n"
   ]
  },
  {
   "cell_type": "code",
   "execution_count": null,
   "id": "a816d0e8-cab0-4cc5-ab11-cea871e3556a",
   "metadata": {},
   "outputs": [],
   "source": [
    "# plot watershed\n",
    "plt.figure(figsize=(9,4))\n",
    "\n",
    "model_grid.imshow(\"topographic__elevation\", \n",
    "                  vmin=0,\n",
    "                  plot_name= \"Watershed DEM for the Study Area\",\n",
    "                  var_name= \"elevation(m)\",\n",
    "                  cmap=\"viridis\")"
   ]
  },
  {
   "cell_type": "code",
   "execution_count": null,
   "id": "562c0283-c7b3-4404-b996-7675337e0057",
   "metadata": {},
   "outputs": [],
   "source": [
    "# export watershed dem as ASCII file\n",
    "write_esri_ascii(\"spruce_watershed.txt\", model_grid, \"topographic__elevation\")"
   ]
  }
 ],
 "metadata": {
  "kernelspec": {
   "display_name": "Python 3 (ipykernel)",
   "language": "python",
   "name": "python3"
  },
  "language_info": {
   "codemirror_mode": {
    "name": "ipython",
    "version": 3
   },
   "file_extension": ".py",
   "mimetype": "text/x-python",
   "name": "python",
   "nbconvert_exporter": "python",
   "pygments_lexer": "ipython3",
   "version": "3.12.10"
  }
 },
 "nbformat": 4,
 "nbformat_minor": 5
}
