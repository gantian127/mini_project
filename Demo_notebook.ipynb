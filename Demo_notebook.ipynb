{
 "cells": [
  {
   "cell_type": "markdown",
   "id": "b42135db-d029-4043-80e2-9f8dbfcd708c",
   "metadata": {},
   "source": [
    "# Demo for Overlandflow Simulation"
   ]
  },
  {
   "cell_type": "markdown",
   "id": "846b5705-da92-4882-a9cb-7aa13a17008c",
   "metadata": {},
   "source": [
    "## Simulation Parameters"
   ]
  },
  {
   "cell_type": "code",
   "execution_count": null,
   "id": "8e1ab7cc-93e0-4257-ad1f-5f9483a0cc17",
   "metadata": {},
   "outputs": [],
   "source": [
    "# terrain info\n",
    "terrain = {\n",
    "    \"grid_file\": \"spruce_watershed.txt\",  # DEM file name (ASCII format)\n",
    "    \"nodata_value\": -9999,  # nodata value in the DEM file\n",
    "    \"outlet_id\": -1  # set as -1 if outlet id number is unknown\n",
    "}"
   ]
  },
  {
   "cell_type": "code",
   "execution_count": null,
   "id": "b7f850d0-9cca-4551-aba7-5e7ed0e3a9b2",
   "metadata": {},
   "outputs": [],
   "source": [
    "# output setting\n",
    "output = {\n",
    "    \"output_folder\" : 'output_spruce',  # output folder name\n",
    "    \"plot_olf\": True,  # plot overland flow results\n",
    "    \"plot_inf\": True   # plot infiltration results\n",
    "}"
   ]
  },
  {
   "cell_type": "code",
   "execution_count": null,
   "id": "b829b978-81f5-4d9d-9b50-9f60bf8d8662",
   "metadata": {},
   "outputs": [],
   "source": [
    "# model run setting\n",
    "model_run = {\n",
    "    \"model_run_time\": 200,  # min\n",
    "    \"storm_duration\": 10,  # min\n",
    "    \"time_step\": 2,  # min  set the time step to create the results\n",
    "    \"activate_inf\":  True ,#  set as true to enable infiltration process\n",
    "}"
   ]
  },
  {
   "cell_type": "code",
   "execution_count": null,
   "id": "c16a003f-a65f-4125-a109-45f0e321d8a6",
   "metadata": {},
   "outputs": [],
   "source": [
    "# infiltration setting\n",
    "infil_info = {\n",
    "    \"conductivity_file\": '',  # set as '' if no file exist m/s\n",
    "    \"hydraulic_conductivity\": 1.0e-7,  # m/s\n",
    "    \"soil_water_file\": '',  # set as '' if no file exist m\n",
    "    \"soil_water_infiltration_depth\": 1e-5,  # m\n",
    "    \"soil_bulk_density\": 1590.0,  # kg/m3\n",
    "    \"rock_density\": 2650.0,  # kg/m3\n",
    "    \"initial_soil_moisture_content\": 0.15, # [0-1]\n",
    "    \"soil_type\": \"sandy loam\",\n",
    "    \"volume_fraction_coarse_fragments\": 0.2,  # [0-1]\n",
    "    \"coarse_sed_flag\": False,\n",
    "    \"surface_water_minimum_depth\": 1.0e-8,   # m\n",
    "    \"soil_pore_size_distribution_index\": False,\n",
    "    \"soil_bubbling_pressure\": False,  # m\n",
    "    \"wetting_front_capillary_pressure_head\": False,  # m\n",
    "}\n",
    "\n",
    "# supported soil type:\n",
    "# 'sand', loamy sand', 'sandy loam', 'loam', 'silt loam', 'sandy clay loam',\n",
    "# 'clay loam', 'silty clay loam', 'sandy clay', 'silty clay', 'clay'"
   ]
  },
  {
   "cell_type": "code",
   "execution_count": null,
   "id": "3f55ddc5-c145-48c3-b495-c9beea018d2d",
   "metadata": {},
   "outputs": [],
   "source": [
    "# overland flow setting\n",
    "olf_info = {\n",
    "    \"rain_file\": '',  # set as '' if no file exist, mm/hr\n",
    "    \"rain_intensity\": 59.2,  # mm/hr\n",
    "    \"surface_water_file\": '',  # set as '' if no file exist, m\n",
    "    \"surface_water_depth\": 1e-12,  # m\n",
    "    \"steep_slopes\": True,\n",
    "    \"alpha\": 0.7,  # time step coefficient\n",
    "    \"mannings_n\": 0.03,  # manning's roughness coefficient\n",
    "    \"g\": 9.80665,  # acceleration due to gravity m/s^2\n",
    "    \"theta\": 0.8   # wighting factor\n",
    "}\n",
    "\n",
    "# TODO: assign different rain intensity scenario for real case (2013, 2021) using observation data and rain intensity map"
   ]
  },
  {
   "cell_type": "markdown",
   "id": "0bb8237f-f090-4b02-9420-0e75b128ef98",
   "metadata": {},
   "source": [
    "## Input DEM "
   ]
  },
  {
   "cell_type": "code",
   "execution_count": null,
   "id": "25a8e1cd-c84e-4bb3-9331-1dc613b9cf0d",
   "metadata": {},
   "outputs": [],
   "source": [
    "import matplotlib.pyplot as plt\n",
    "import rasterio"
   ]
  },
  {
   "cell_type": "code",
   "execution_count": null,
   "id": "eb0fcdef-e8d1-4c29-95db-98e02f2cef94",
   "metadata": {},
   "outputs": [],
   "source": [
    "# Load DEM file \n",
    "with rasterio.open(terrain[\"grid_file\"]) as dataset:\n",
    "    # Read the first band\n",
    "    raster_data = dataset.read(1)\n",
    "\n",
    "    # Get metadata (optional)\n",
    "    extent = [dataset.bounds.left, dataset.bounds.right, dataset.bounds.bottom, dataset.bounds.top]\n",
    "\n",
    "# Plot the raster\n",
    "plt.figure(figsize=(9, 4))\n",
    "plt.imshow(raster_data, cmap=\"viridis\", extent=extent, vmin=0)\n",
    "plt.colorbar(label=\"elevation (m)\")\n",
    "plt.title(\"Watershed DEM of the Study Area\")\n",
    "plt.xlabel(\"X\")\n",
    "plt.ylabel(\"Y\")"
   ]
  },
  {
   "cell_type": "code",
   "execution_count": null,
   "id": "2d7f4e30-24d3-4a0f-b6c2-ed1d9267530b",
   "metadata": {},
   "outputs": [],
   "source": [
    "# hydraulic conductivity\n",
    "with rasterio.open(\"hydr_cond_wildfire.tif\") as dataset:\n",
    "    # Read the first band\n",
    "    raster_data = dataset.read(1)\n",
    "\n",
    "    # Get metadata (optional)\n",
    "    extent = [dataset.bounds.left, dataset.bounds.right, dataset.bounds.bottom, dataset.bounds.top]\n",
    "\n",
    "# Plot the raster\n",
    "plt.figure(figsize=(8, 6))\n",
    "plt.imshow(raster_data, cmap=\"viridis\", extent=extent)\n",
    "plt.colorbar(label=\"Pixel Values\")\n",
    "plt.title(\"Hydraulic conductivity\")\n",
    "plt.xlabel(\"Longitude\")\n",
    "plt.ylabel(\"Latitude\")\n",
    "plt.show()\n",
    "\n",
    "# TODO: This will be modified to use the firemap or the soilgrids data type to define the hydraulic conductivity"
   ]
  },
  {
   "cell_type": "markdown",
   "id": "46125870-e653-48bf-a105-aa0eee1415b4",
   "metadata": {},
   "source": [
    "## Run Model"
   ]
  },
  {
   "cell_type": "code",
   "execution_count": null,
   "id": "4ffb6e38-cb5d-49f5-b486-90ee5ba6bc99",
   "metadata": {},
   "outputs": [],
   "source": [
    "from flood_simulator import FloodSimulator"
   ]
  },
  {
   "cell_type": "code",
   "execution_count": null,
   "id": "93464eb0-1174-4287-b422-715192a2bbaf",
   "metadata": {},
   "outputs": [],
   "source": [
    "fs = FloodSimulator(terrain, output, model_run, infil_info, olf_info)"
   ]
  },
  {
   "cell_type": "code",
   "execution_count": null,
   "id": "adeb2376-838a-4850-8ad1-a753ef9903a3",
   "metadata": {},
   "outputs": [],
   "source": [
    "fs.run()"
   ]
  },
  {
   "cell_type": "markdown",
   "id": "13f5603f-d882-4929-96f0-15c95697bcce",
   "metadata": {},
   "source": [
    "## Show Results"
   ]
  },
  {
   "cell_type": "code",
   "execution_count": null,
   "id": "6cb3ec51-4e0f-4e03-9d29-1807d630cb77",
   "metadata": {},
   "outputs": [],
   "source": [
    "# # Make a short video\n",
    "import imageio.v2 as imageio\n",
    "from IPython.display import Video\n",
    "import os\n",
    "\n",
    "results_dir = os.path.join(os.getcwd(), output[\"output_folder\"])\n",
    "for name in ['flow','infil']:\n",
    "    img_files = [\n",
    "        os.path.join(results_dir, file)\n",
    "        for file in os.listdir(results_dir)\n",
    "        if name in file and \".png\" in file\n",
    "    ]\n",
    "    img_files.sort(key=lambda x: os.path.getmtime(x))\n",
    "    \n",
    "    with imageio.get_writer(\n",
    "        os.path.join(results_dir, f\"{name}.mp4\"), mode=\"I\", fps=1\n",
    "    ) as writer:\n",
    "        for f in img_files:\n",
    "            im = imageio.imread(os.path.join(results_dir, f))\n",
    "            writer.append_data(im)\n",
    "    \n",
    "    writer.close()"
   ]
  },
  {
   "cell_type": "code",
   "execution_count": null,
   "id": "0eddf540-f17b-45c1-bfa6-93df8804eb50",
   "metadata": {},
   "outputs": [],
   "source": [
    "# Display the overland flow results\n",
    "Video(os.path.join(output[\"output_folder\"], \"flow.mp4\"), embed=True, width=900, height=700)"
   ]
  },
  {
   "cell_type": "code",
   "execution_count": null,
   "id": "f91f3544-94e7-4ebe-8570-82f06ffe4f17",
   "metadata": {},
   "outputs": [],
   "source": [
    "# Display the infiltration results\n",
    "Video(os.path.join(output[\"output_folder\"], \"infil.mp4\"), embed=True, width=900, height=700)"
   ]
  }
 ],
 "metadata": {
  "kernelspec": {
   "display_name": "Python 3 (ipykernel)",
   "language": "python",
   "name": "python3"
  },
  "language_info": {
   "codemirror_mode": {
    "name": "ipython",
    "version": 3
   },
   "file_extension": ".py",
   "mimetype": "text/x-python",
   "name": "python",
   "nbconvert_exporter": "python",
   "pygments_lexer": "ipython3",
   "version": "3.12.10"
  }
 },
 "nbformat": 4,
 "nbformat_minor": 5
}
